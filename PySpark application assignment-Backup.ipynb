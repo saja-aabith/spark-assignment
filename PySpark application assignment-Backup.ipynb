{
 "cells": [
  {
   "cell_type": "markdown",
   "metadata": {},
   "source": [
    "# The top 15 movies on IMDb\n",
    "\n",
    "## Main objectives: \n",
    "    1. Fetch top 15 movies with a minimum of 100 votes\n",
    "    2. Ranking = (numVotes / averageNumberOfVotes) * averageRating\n",
    "    3. List of the title of these top 15 movies\n",
    "\n",
    "\n",
    "### Method:\n",
    "    1. Download the two .tsv files containing information on the titles and ratings from (https://datasets.imdbws.com/name.basics.tsv.gz) ... into the pyspark folder\n",
    "    2. Import the files into Jupyter notebook\n",
    "    3. Point to the files with abspath\n",
    "    4. Read the .tsv file containing the rating informations into a dataframe and then convert it into rdd type\n",
    "    5. Do same for the .tsv file containing the tile informations\n",
    "    6. Filter all movies, short movies, tv episodes, etc. so that only those that have 100 or more number of votes remain\n",
    "    7. Join data using the join function, using the 'tconst' as the key\n",
    "    8. Filter the joined data so that only movies are left\n",
    "    9. Calculate the ranking using ...\n",
    "    10. Loop through the final list and print out top 15 movies"
   ]
  },
  {
   "cell_type": "code",
   "execution_count": 18,
   "metadata": {},
   "outputs": [],
   "source": [
    "from pyspark import SparkContext"
   ]
  },
  {
   "cell_type": "code",
   "execution_count": 2,
   "metadata": {},
   "outputs": [
    {
     "data": {
      "text/plain": [
       "[['tt9916778', '7.3', '24'],\n",
       " ['tt9916766', '6.9', '14'],\n",
       " ['tt9916720', '6.0', '57']]"
      ]
     },
     "execution_count": 2,
     "metadata": {},
     "output_type": "execute_result"
    }
   ],
   "source": [
    "import pathlib\n",
    "path_to_ratings = pathlib.Path('raw_data/title.ratings.tsv')\n",
    "abs_path = os.path.abspath(path_to_ratings)\n",
    "df_ratings = spark.read.csv(abs_path, sep=r'\\t', header=True).select('tconst','averageRating','numVotes')\n",
    "rdd_ratings = df_ratings.rdd.map(list)\n",
    "rdd_ratings.top(3)"
   ]
  },
  {
   "cell_type": "code",
   "execution_count": 3,
   "metadata": {},
   "outputs": [
    {
     "data": {
      "text/plain": [
       "[['tt9916880', 'tvEpisode', 'Horrid Henry Knows It All'],\n",
       " ['tt9916856', 'short', 'The Wind'],\n",
       " ['tt9916852', 'tvEpisode', 'Episode #3.20']]"
      ]
     },
     "execution_count": 3,
     "metadata": {},
     "output_type": "execute_result"
    }
   ],
   "source": [
    "path_to_titles = pathlib.Path('raw_data/title.basics.tsv')\n",
    "abs_path = os.path.abspath(path_to_titles)\n",
    "df_titles = spark.read.csv(abs_path, sep=r'\\t', header=True).select('tconst','titleType','primaryTitle')\n",
    "rdd_titles = df_titles.rdd.map(list)\n",
    "rdd_titles.top(3)"
   ]
  },
  {
   "cell_type": "code",
   "execution_count": 4,
   "metadata": {},
   "outputs": [],
   "source": [
    "rdd_ratings = rdd_ratings.filter(lambda x: int(x[2])>=100)"
   ]
  },
  {
   "cell_type": "code",
   "execution_count": 5,
   "metadata": {},
   "outputs": [],
   "source": [
    "rdd_ratings_pair = rdd_ratings.map(lambda r: (r[0], r))\n",
    "rdd_titles_pair = rdd_titles.map(lambda r: (r[0], r))"
   ]
  },
  {
   "cell_type": "code",
   "execution_count": 6,
   "metadata": {},
   "outputs": [
    {
     "data": {
      "text/plain": [
       "[('tt0000009',\n",
       "  (['tt0000009', '5.9', '154'], ['tt0000009', 'movie', 'Miss Jerry']))]"
      ]
     },
     "execution_count": 6,
     "metadata": {},
     "output_type": "execute_result"
    }
   ],
   "source": [
    "rdd_joined = rdd_ratings_pair.join(rdd_titles_pair)\n",
    "rdd_movies = rdd_joined.filter(lambda x: x[1][1][1]=='movie')\n",
    "rdd_movies.take(1)"
   ]
  },
  {
   "cell_type": "code",
   "execution_count": 7,
   "metadata": {},
   "outputs": [],
   "source": [
    "rdd_movies_votes = rdd_movies.map(lambda x: int(x[1][0][2]))\n",
    "average_no_votes = rdd_movies_votes.mean()\n",
    "rdd_final = rdd_movies.sortBy(lambda x: (int(x[1][0][2])/average_no_votes)*float(x[1][0][1]), False).take(15)"
   ]
  },
  {
   "cell_type": "code",
   "execution_count": 8,
   "metadata": {},
   "outputs": [],
   "source": [
    "top_15_list = []\n",
    "\n",
    "for each_term in rdd_final:\n",
    "    \n",
    "    top_15_list.append(each_term[1][1][2])"
   ]
  },
  {
   "cell_type": "code",
   "execution_count": 9,
   "metadata": {
    "collapsed": true
   },
   "outputs": [
    {
     "data": {
      "text/plain": [
       "['The Shawshank Redemption',\n",
       " 'The Dark Knight',\n",
       " 'Inception',\n",
       " 'Fight Club',\n",
       " 'Pulp Fiction',\n",
       " 'Forrest Gump',\n",
       " 'The Godfather',\n",
       " 'The Lord of the Rings: The Return of the King',\n",
       " 'The Lord of the Rings: The Fellowship of the Ring',\n",
       " 'The Matrix',\n",
       " 'The Lord of the Rings: The Two Towers',\n",
       " 'The Dark Knight Rises',\n",
       " 'Interstellar',\n",
       " 'Se7en',\n",
       " 'Gladiator']"
      ]
     },
     "execution_count": 9,
     "metadata": {},
     "output_type": "execute_result"
    }
   ],
   "source": [
    "top_15_list"
   ]
  },
  {
   "cell_type": "code",
   "execution_count": 17,
   "metadata": {},
   "outputs": [
    {
     "name": "stdout",
     "output_type": "stream",
     "text": [
      "The Shawshank Redemption\n",
      "The Dark Knight\n",
      "Inception\n",
      "Fight Club\n",
      "Pulp Fiction\n",
      "Forrest Gump\n",
      "The Godfather\n",
      "The Lord of the Rings: The Return of the King\n",
      "The Lord of the Rings: The Fellowship of the Ring\n",
      "The Matrix\n",
      "The Lord of the Rings: The Two Towers\n",
      "The Dark Knight Rises\n",
      "Interstellar\n",
      "Se7en\n",
      "Gladiator\n"
     ]
    }
   ],
   "source": [
    "for each_term in rdd_final:\n",
    "    print(each_term[1][1][2])"
   ]
  },
  {
   "cell_type": "code",
   "execution_count": null,
   "metadata": {},
   "outputs": [],
   "source": []
  }
 ],
 "metadata": {
  "kernelspec": {
   "display_name": "Python 3",
   "language": "python",
   "name": "python3"
  },
  "language_info": {
   "codemirror_mode": {
    "name": "ipython",
    "version": 3
   },
   "file_extension": ".py",
   "mimetype": "text/x-python",
   "name": "python",
   "nbconvert_exporter": "python",
   "pygments_lexer": "ipython3",
   "version": "3.6.8"
  }
 },
 "nbformat": 4,
 "nbformat_minor": 4
}
